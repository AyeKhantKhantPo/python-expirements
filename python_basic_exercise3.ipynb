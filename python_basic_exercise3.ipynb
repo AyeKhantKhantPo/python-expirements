{
 "cells": [
  {
   "cell_type": "markdown",
   "id": "6e50d974",
   "metadata": {},
   "source": [
    "# Python Practice"
   ]
  },
  {
   "cell_type": "markdown",
   "id": "f027c19f",
   "metadata": {},
   "source": [
    "**1.** Create a \"Bus\" class which contains name, max_speed and mileage as instance artributes. It also has a function called \"drive\" which will return \"driving\". "
   ]
  },
  {
   "cell_type": "code",
   "execution_count": null,
   "id": "eecad060",
   "metadata": {},
   "outputs": [],
   "source": [
    "class Bus:\n",
    "    def __init__(name, max_speed, mileage):\n",
    "        self.name = name\n",
    "        self.max_speed = max_speed\n",
    "        self.mileage = mileage\n",
    "        \n",
    "    def drive(self):\n",
    "        return \"driving\""
   ]
  },
  {
   "cell_type": "markdown",
   "id": "ca11623c",
   "metadata": {},
   "source": [
    "**2.** Generate 3 random integers between 100 and 999 which is divisible by 5."
   ]
  },
  {
   "cell_type": "code",
   "execution_count": 1,
   "id": "6f783851",
   "metadata": {
    "ExecuteTime": {
     "end_time": "2024-04-04T16:53:24.649426Z",
     "start_time": "2024-04-04T16:53:24.641637Z"
    }
   },
   "outputs": [
    {
     "name": "stdout",
     "output_type": "stream",
     "text": [
      "Generated Numbers: 840 795 100\n"
     ]
    }
   ],
   "source": [
    "import random\n",
    "\n",
    "a = random.randrange(100, 999, 5)\n",
    "b = random.randrange(100, 999, 5)\n",
    "c = random.randrange(100, 999, 5)\n",
    "\n",
    "print(\"Generated Numbers:\", a, b, c)"
   ]
  },
  {
   "cell_type": "markdown",
   "id": "8ce5c486",
   "metadata": {},
   "source": [
    "**3.** Write a program to accept a number from a user and calculate the sum of all numbers from 1 to a given number.\n",
    "For example, if the user entered 10 the output should be 55 (1+2+3+4+5+6+7+8+9+10)"
   ]
  },
  {
   "cell_type": "code",
   "execution_count": 5,
   "id": "b4c7628c",
   "metadata": {
    "ExecuteTime": {
     "end_time": "2024-04-04T16:59:46.428957Z",
     "start_time": "2024-04-04T16:59:44.458340Z"
    }
   },
   "outputs": [
    {
     "name": "stdout",
     "output_type": "stream",
     "text": [
      "Enter a number : 10\n",
      "Sum of all numbers :  55\n"
     ]
    }
   ],
   "source": [
    "num = int(input(\"Enter a number : \"))\n",
    "sum = 0\n",
    "for i in range(num):\n",
    "    sum += i+1\n",
    "\n",
    "print(\"Sum of all numbers : \", sum)"
   ]
  },
  {
   "cell_type": "markdown",
   "id": "3c17ee69",
   "metadata": {},
   "source": [
    "**4.** Write a program to count the total number of digits in a number using a while loop.\n",
    "For example, the number is 75869, so the output should be 5."
   ]
  },
  {
   "cell_type": "code",
   "execution_count": 9,
   "id": "28a21614",
   "metadata": {
    "ExecuteTime": {
     "end_time": "2024-04-04T17:07:15.413811Z",
     "start_time": "2024-04-04T17:07:02.863336Z"
    }
   },
   "outputs": [
    {
     "name": "stdout",
     "output_type": "stream",
     "text": [
      "Enter a number to count total digits: 75869\n",
      "The number of digits in the number are: 5\n"
     ]
    }
   ],
   "source": [
    "num = int(input(\"Enter a number to count total digits: \"))\n",
    "\n",
    "count = 0\n",
    "while num > 0:\n",
    "    count = count + 1\n",
    "    num = num // 10\n",
    "print(\"The number of digits in the number are:\",count)"
   ]
  },
  {
   "cell_type": "markdown",
   "id": "709e313e",
   "metadata": {},
   "source": [
    "**5.** Reverse a given integer number\n",
    "Given:\n",
    "76542\n",
    "\n",
    "Expected output:\n",
    "24567"
   ]
  },
  {
   "cell_type": "code",
   "execution_count": 6,
   "id": "ee8801da",
   "metadata": {
    "ExecuteTime": {
     "end_time": "2024-04-04T17:14:46.318961Z",
     "start_time": "2024-04-04T17:14:46.302491Z"
    }
   },
   "outputs": [
    {
     "name": "stdout",
     "output_type": "stream",
     "text": [
      "Reversed Number: 24567\n"
     ]
    }
   ],
   "source": [
    "num  =  76542\n",
    "reversed_num = 0\n",
    "\n",
    "while num != 0:\n",
    "    digit = num % 10\n",
    "    reversed_num = reversed_num * 10 + digit\n",
    "    num //= 10\n",
    "\n",
    "print(\"Reversed Number: \" + str(reversed_num))"
   ]
  },
  {
   "cell_type": "code",
   "execution_count": null,
   "id": "81ca430e",
   "metadata": {},
   "outputs": [],
   "source": []
  }
 ],
 "metadata": {
  "kernelspec": {
   "display_name": "python_ml",
   "language": "python",
   "name": "python_ml"
  },
  "language_info": {
   "codemirror_mode": {
    "name": "ipython",
    "version": 3
   },
   "file_extension": ".py",
   "mimetype": "text/x-python",
   "name": "python",
   "nbconvert_exporter": "python",
   "pygments_lexer": "ipython3",
   "version": "3.9.18"
  },
  "toc": {
   "base_numbering": 1,
   "nav_menu": {},
   "number_sections": true,
   "sideBar": true,
   "skip_h1_title": false,
   "title_cell": "Table of Contents",
   "title_sidebar": "Contents",
   "toc_cell": false,
   "toc_position": {},
   "toc_section_display": true,
   "toc_window_display": false
  },
  "varInspector": {
   "cols": {
    "lenName": 16,
    "lenType": 16,
    "lenVar": 40
   },
   "kernels_config": {
    "python": {
     "delete_cmd_postfix": "",
     "delete_cmd_prefix": "del ",
     "library": "var_list.py",
     "varRefreshCmd": "print(var_dic_list())"
    },
    "r": {
     "delete_cmd_postfix": ") ",
     "delete_cmd_prefix": "rm(",
     "library": "var_list.r",
     "varRefreshCmd": "cat(var_dic_list()) "
    }
   },
   "types_to_exclude": [
    "module",
    "function",
    "builtin_function_or_method",
    "instance",
    "_Feature"
   ],
   "window_display": false
  }
 },
 "nbformat": 4,
 "nbformat_minor": 5
}
