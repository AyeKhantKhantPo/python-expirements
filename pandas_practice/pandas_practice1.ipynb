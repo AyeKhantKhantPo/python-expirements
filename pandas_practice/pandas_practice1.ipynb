{
 "cells": [
  {
   "cell_type": "code",
   "execution_count": 3,
   "id": "38e0a228",
   "metadata": {
    "ExecuteTime": {
     "end_time": "2024-04-06T04:23:53.329757Z",
     "start_time": "2024-04-06T04:23:52.625089Z"
    }
   },
   "outputs": [],
   "source": [
    "import pandas as pd"
   ]
  },
  {
   "cell_type": "code",
   "execution_count": 4,
   "id": "18c22520",
   "metadata": {
    "ExecuteTime": {
     "end_time": "2024-04-06T04:24:07.294427Z",
     "start_time": "2024-04-06T04:23:59.668550Z"
    }
   },
   "outputs": [
    {
     "name": "stdout",
     "output_type": "stream",
     "text": [
      "Requirement already satisfied: pandas==2.2.1 in c:\\users\\app\\anaconda3\\envs\\python_ml\\lib\\site-packages (2.2.1)\n",
      "Requirement already satisfied: numpy<2,>=1.22.4 in c:\\users\\app\\anaconda3\\envs\\python_ml\\lib\\site-packages (from pandas==2.2.1) (1.26.4)\n",
      "Requirement already satisfied: python-dateutil>=2.8.2 in c:\\users\\app\\anaconda3\\envs\\python_ml\\lib\\site-packages (from pandas==2.2.1) (2.8.2)\n",
      "Requirement already satisfied: pytz>=2020.1 in c:\\users\\app\\anaconda3\\envs\\python_ml\\lib\\site-packages (from pandas==2.2.1) (2023.3.post1)\n",
      "Requirement already satisfied: tzdata>=2022.7 in c:\\users\\app\\anaconda3\\envs\\python_ml\\lib\\site-packages (from pandas==2.2.1) (2023.3)\n",
      "Requirement already satisfied: six>=1.5 in c:\\users\\app\\anaconda3\\envs\\python_ml\\lib\\site-packages (from python-dateutil>=2.8.2->pandas==2.2.1) (1.16.0)\n"
     ]
    }
   ],
   "source": [
    "!pip install pandas==2.2.1"
   ]
  },
  {
   "cell_type": "code",
   "execution_count": 6,
   "id": "eeddf8ba",
   "metadata": {
    "ExecuteTime": {
     "end_time": "2024-04-06T04:24:14.872191Z",
     "start_time": "2024-04-06T04:24:14.858657Z"
    }
   },
   "outputs": [],
   "source": [
    "import pandas as pd"
   ]
  },
  {
   "cell_type": "code",
   "execution_count": 7,
   "id": "7f085c54",
   "metadata": {
    "ExecuteTime": {
     "end_time": "2024-04-06T04:24:17.826083Z",
     "start_time": "2024-04-06T04:24:17.807979Z"
    }
   },
   "outputs": [
    {
     "data": {
      "text/plain": [
       "'2.2.1'"
      ]
     },
     "execution_count": 7,
     "metadata": {},
     "output_type": "execute_result"
    }
   ],
   "source": [
    "pd.__version__"
   ]
  },
  {
   "cell_type": "code",
   "execution_count": 8,
   "id": "0a4421c5",
   "metadata": {
    "ExecuteTime": {
     "end_time": "2024-04-06T04:30:06.430984Z",
     "start_time": "2024-04-06T04:30:06.409906Z"
    }
   },
   "outputs": [],
   "source": [
    "pd.set_option(\"max_colwidth\", 0)"
   ]
  },
  {
   "cell_type": "code",
   "execution_count": 12,
   "id": "dcc9dc8f",
   "metadata": {
    "ExecuteTime": {
     "end_time": "2024-04-06T04:33:36.332791Z",
     "start_time": "2024-04-06T04:33:36.313677Z"
    }
   },
   "outputs": [
    {
     "data": {
      "text/plain": [
       "0    7            \n",
       "1    Heisenberg   \n",
       "2    3.14         \n",
       "3    -1789710578  \n",
       "4    Happy Eating!\n",
       "dtype: object"
      ]
     },
     "execution_count": 12,
     "metadata": {},
     "output_type": "execute_result"
    }
   ],
   "source": [
    "s = pd.Series([7, \"Heisenberg\", 3.14, -1789710578, 'Happy Eating!'])\n",
    "s"
   ]
  },
  {
   "cell_type": "code",
   "execution_count": 14,
   "id": "35832b87",
   "metadata": {
    "ExecuteTime": {
     "end_time": "2024-04-06T04:33:47.758541Z",
     "start_time": "2024-04-06T04:33:47.739491Z"
    }
   },
   "outputs": [
    {
     "data": {
      "text/plain": [
       "0    1\n",
       "1    2\n",
       "2    3\n",
       "3    4\n",
       "4    5\n",
       "dtype: int64"
      ]
     },
     "execution_count": 14,
     "metadata": {},
     "output_type": "execute_result"
    }
   ],
   "source": [
    "s2 = pd.Series([1, 2, 3, 4, 5])\n",
    "s2"
   ]
  },
  {
   "cell_type": "code",
   "execution_count": 33,
   "id": "ef5c6754",
   "metadata": {
    "ExecuteTime": {
     "end_time": "2024-04-06T05:02:26.253404Z",
     "start_time": "2024-04-06T05:02:26.231280Z"
    }
   },
   "outputs": [
    {
     "data": {
      "text/plain": [
       "0    1\n",
       "3    4\n",
       "dtype: int64"
      ]
     },
     "execution_count": 33,
     "metadata": {},
     "output_type": "execute_result"
    }
   ],
   "source": [
    "s2[[0,3]]"
   ]
  },
  {
   "cell_type": "code",
   "execution_count": 16,
   "id": "400688a7",
   "metadata": {
    "ExecuteTime": {
     "end_time": "2024-04-06T04:34:29.126565Z",
     "start_time": "2024-04-06T04:34:29.097911Z"
    }
   },
   "outputs": [
    {
     "data": {
      "text/html": [
       "<div>\n",
       "<style scoped>\n",
       "    .dataframe tbody tr th:only-of-type {\n",
       "        vertical-align: middle;\n",
       "    }\n",
       "\n",
       "    .dataframe tbody tr th {\n",
       "        vertical-align: top;\n",
       "    }\n",
       "\n",
       "    .dataframe thead th {\n",
       "        text-align: right;\n",
       "    }\n",
       "</style>\n",
       "<table border=\"1\" class=\"dataframe\">\n",
       "  <thead>\n",
       "    <tr style=\"text-align: right;\">\n",
       "      <th></th>\n",
       "      <th>value_1</th>\n",
       "      <th>value_2</th>\n",
       "    </tr>\n",
       "  </thead>\n",
       "  <tbody>\n",
       "    <tr>\n",
       "      <th>0</th>\n",
       "      <td>7</td>\n",
       "      <td>1</td>\n",
       "    </tr>\n",
       "    <tr>\n",
       "      <th>1</th>\n",
       "      <td>Heisenberg</td>\n",
       "      <td>2</td>\n",
       "    </tr>\n",
       "    <tr>\n",
       "      <th>2</th>\n",
       "      <td>3.14</td>\n",
       "      <td>3</td>\n",
       "    </tr>\n",
       "    <tr>\n",
       "      <th>3</th>\n",
       "      <td>-1789710578</td>\n",
       "      <td>4</td>\n",
       "    </tr>\n",
       "    <tr>\n",
       "      <th>4</th>\n",
       "      <td>Happy Eating!</td>\n",
       "      <td>5</td>\n",
       "    </tr>\n",
       "  </tbody>\n",
       "</table>\n",
       "</div>"
      ],
      "text/plain": [
       "         value_1  value_2\n",
       "0  7              1      \n",
       "1  Heisenberg     2      \n",
       "2  3.14           3      \n",
       "3  -1789710578    4      \n",
       "4  Happy Eating!  5      "
      ]
     },
     "execution_count": 16,
     "metadata": {},
     "output_type": "execute_result"
    }
   ],
   "source": [
    "df = pd.DataFrame({\"value_1\": s, \"value_2\": s2})\n",
    "df"
   ]
  },
  {
   "cell_type": "code",
   "execution_count": 22,
   "id": "911dd410",
   "metadata": {
    "ExecuteTime": {
     "end_time": "2024-04-06T04:48:37.438713Z",
     "start_time": "2024-04-06T04:48:37.410469Z"
    }
   },
   "outputs": [
    {
     "data": {
      "text/plain": [
       "A    7            \n",
       "Z    Heisenberg   \n",
       "C    3.14         \n",
       "Y    -1789710578  \n",
       "E    Happy Eating!\n",
       "dtype: object"
      ]
     },
     "execution_count": 22,
     "metadata": {},
     "output_type": "execute_result"
    }
   ],
   "source": [
    "s = pd.Series(data=[7, \"Heisenberg\", 3.14, -1789710578, 'Happy Eating!'], index=['A', 'Z', 'C', 'Y', 'E'])\n",
    "s"
   ]
  },
  {
   "cell_type": "code",
   "execution_count": 26,
   "id": "f65152c8",
   "metadata": {
    "ExecuteTime": {
     "end_time": "2024-04-06T04:49:37.577004Z",
     "start_time": "2024-04-06T04:49:37.556371Z"
    }
   },
   "outputs": [
    {
     "data": {
      "text/html": [
       "<div>\n",
       "<style scoped>\n",
       "    .dataframe tbody tr th:only-of-type {\n",
       "        vertical-align: middle;\n",
       "    }\n",
       "\n",
       "    .dataframe tbody tr th {\n",
       "        vertical-align: top;\n",
       "    }\n",
       "\n",
       "    .dataframe thead th {\n",
       "        text-align: right;\n",
       "    }\n",
       "</style>\n",
       "<table border=\"1\" class=\"dataframe\">\n",
       "  <thead>\n",
       "    <tr style=\"text-align: right;\">\n",
       "      <th></th>\n",
       "      <th>value_1</th>\n",
       "    </tr>\n",
       "    <tr>\n",
       "      <th>value_2</th>\n",
       "      <th></th>\n",
       "    </tr>\n",
       "  </thead>\n",
       "  <tbody>\n",
       "    <tr>\n",
       "      <th>1</th>\n",
       "      <td>7</td>\n",
       "    </tr>\n",
       "    <tr>\n",
       "      <th>2</th>\n",
       "      <td>Heisenberg</td>\n",
       "    </tr>\n",
       "    <tr>\n",
       "      <th>3</th>\n",
       "      <td>3.14</td>\n",
       "    </tr>\n",
       "    <tr>\n",
       "      <th>4</th>\n",
       "      <td>-1789710578</td>\n",
       "    </tr>\n",
       "    <tr>\n",
       "      <th>5</th>\n",
       "      <td>Happy Eating!</td>\n",
       "    </tr>\n",
       "  </tbody>\n",
       "</table>\n",
       "</div>"
      ],
      "text/plain": [
       "               value_1\n",
       "value_2               \n",
       "1        7            \n",
       "2        Heisenberg   \n",
       "3        3.14         \n",
       "4        -1789710578  \n",
       "5        Happy Eating!"
      ]
     },
     "execution_count": 26,
     "metadata": {},
     "output_type": "execute_result"
    }
   ],
   "source": [
    "df = df.set_index(\"value_2\")\n",
    "df"
   ]
  },
  {
   "cell_type": "markdown",
   "id": "0826693c",
   "metadata": {},
   "source": [
    "# Dictionary to Series"
   ]
  },
  {
   "cell_type": "code",
   "execution_count": 28,
   "id": "f4781d27",
   "metadata": {
    "ExecuteTime": {
     "end_time": "2024-04-06T04:51:51.918999Z",
     "start_time": "2024-04-06T04:51:51.891377Z"
    }
   },
   "outputs": [
    {
     "data": {
      "text/plain": [
       "Chicago          1000.0\n",
       "New York         1300.0\n",
       "Portland         900.0 \n",
       "San Francisco    1100.0\n",
       "Austin           450.0 \n",
       "Boston          NaN    \n",
       "dtype: float64"
      ]
     },
     "execution_count": 28,
     "metadata": {},
     "output_type": "execute_result"
    }
   ],
   "source": [
    "d = {'Chicago': 1000, 'New York': 1300, 'Portland': 900, 'San Francisco': 1100, 'Austin': 450, 'Boston': None}\n",
    "cities = pd.Series(d)\n",
    "cities"
   ]
  },
  {
   "cell_type": "code",
   "execution_count": 29,
   "id": "86ff9f2c",
   "metadata": {
    "ExecuteTime": {
     "end_time": "2024-04-06T04:52:22.988672Z",
     "start_time": "2024-04-06T04:52:22.978134Z"
    }
   },
   "outputs": [
    {
     "data": {
      "text/plain": [
       "1300.0"
      ]
     },
     "execution_count": 29,
     "metadata": {},
     "output_type": "execute_result"
    }
   ],
   "source": [
    "cities[\"New York\"]"
   ]
  },
  {
   "cell_type": "code",
   "execution_count": 31,
   "id": "9f3516fd",
   "metadata": {
    "ExecuteTime": {
     "end_time": "2024-04-06T04:55:12.036704Z",
     "start_time": "2024-04-06T04:55:12.009131Z"
    }
   },
   "outputs": [
    {
     "data": {
      "text/plain": [
       "Chicago          1000.0\n",
       "New York         1300.0\n",
       "Portland         900.0 \n",
       "San Francisco    1100.0\n",
       "Austin           450.0 \n",
       "dtype: float64"
      ]
     },
     "execution_count": 31,
     "metadata": {},
     "output_type": "execute_result"
    }
   ],
   "source": [
    "cities[['Chicago', 'New York', 'Portland', 'San Francisco', 'Austin']]"
   ]
  },
  {
   "cell_type": "markdown",
   "id": "07615fe2",
   "metadata": {},
   "source": [
    "# Filtering Value"
   ]
  },
  {
   "cell_type": "code",
   "execution_count": 38,
   "id": "82056ca1",
   "metadata": {
    "ExecuteTime": {
     "end_time": "2024-04-06T05:18:13.111443Z",
     "start_time": "2024-04-06T05:18:13.085570Z"
    }
   },
   "outputs": [
    {
     "data": {
      "text/plain": [
       "Chicago          False\n",
       "New York         False\n",
       "Portland         True \n",
       "San Francisco    False\n",
       "Austin           True \n",
       "Boston           False\n",
       "dtype: bool"
      ]
     },
     "execution_count": 38,
     "metadata": {},
     "output_type": "execute_result"
    }
   ],
   "source": [
    "cities < 1000"
   ]
  },
  {
   "cell_type": "code",
   "execution_count": 39,
   "id": "47b0320d",
   "metadata": {
    "ExecuteTime": {
     "end_time": "2024-04-06T05:18:45.516706Z",
     "start_time": "2024-04-06T05:18:45.486413Z"
    }
   },
   "outputs": [
    {
     "data": {
      "text/plain": [
       "Portland    900.0\n",
       "Austin      450.0\n",
       "dtype: float64"
      ]
     },
     "execution_count": 39,
     "metadata": {},
     "output_type": "execute_result"
    }
   ],
   "source": [
    "cities[cities < 1000]"
   ]
  },
  {
   "cell_type": "markdown",
   "id": "d78ba05a",
   "metadata": {},
   "source": [
    "# Updating Value"
   ]
  },
  {
   "cell_type": "code",
   "execution_count": 40,
   "id": "a3a28bbe",
   "metadata": {
    "ExecuteTime": {
     "end_time": "2024-04-06T05:21:25.697725Z",
     "start_time": "2024-04-06T05:21:25.672608Z"
    }
   },
   "outputs": [
    {
     "name": "stdout",
     "output_type": "stream",
     "text": [
      "Old value: 1000.0\n",
      "new value: 1400.0\n"
     ]
    }
   ],
   "source": [
    "print('Old value:', cities['Chicago'])\n",
    "cities['Chicago'] = 1400\n",
    "print('new value:', cities['Chicago'])"
   ]
  },
  {
   "cell_type": "markdown",
   "id": "d601827b",
   "metadata": {},
   "source": [
    "# Searching Index"
   ]
  },
  {
   "cell_type": "code",
   "execution_count": 44,
   "id": "bd4f7164",
   "metadata": {
    "ExecuteTime": {
     "end_time": "2024-04-06T05:25:23.579070Z",
     "start_time": "2024-04-06T05:25:23.560850Z"
    }
   },
   "outputs": [
    {
     "name": "stdout",
     "output_type": "stream",
     "text": [
      "False\n",
      "True\n"
     ]
    }
   ],
   "source": [
    "print(\"Seattle\" in cities)\n",
    "print('San Francisco' in cities)"
   ]
  },
  {
   "cell_type": "markdown",
   "id": "8a7dd66c",
   "metadata": {},
   "source": [
    "# Manipulating Values"
   ]
  },
  {
   "cell_type": "code",
   "execution_count": 35,
   "id": "3bab7e69",
   "metadata": {
    "ExecuteTime": {
     "end_time": "2024-04-06T05:11:22.904212Z",
     "start_time": "2024-04-06T05:11:22.877088Z"
    }
   },
   "outputs": [
    {
     "data": {
      "text/plain": [
       "Chicago          333.333333\n",
       "New York         433.333333\n",
       "Portland         300.000000\n",
       "San Francisco    366.666667\n",
       "Austin           150.000000\n",
       "Boston          NaN        \n",
       "dtype: float64"
      ]
     },
     "execution_count": 35,
     "metadata": {},
     "output_type": "execute_result"
    }
   ],
   "source": [
    "# divided city values by 3\n",
    "cities / 3"
   ]
  },
  {
   "cell_type": "code",
   "execution_count": null,
   "id": "f79ab06f",
   "metadata": {},
   "outputs": [],
   "source": [
    "import numpy as np"
   ]
  },
  {
   "cell_type": "code",
   "execution_count": 36,
   "id": "04476f67",
   "metadata": {
    "ExecuteTime": {
     "end_time": "2024-04-06T05:13:08.026575Z",
     "start_time": "2024-04-06T05:13:07.991029Z"
    }
   },
   "outputs": [
    {
     "data": {
      "text/plain": [
       "Chicago          1000000.0\n",
       "New York         1690000.0\n",
       "Portland         810000.0 \n",
       "San Francisco    1210000.0\n",
       "Austin           202500.0 \n",
       "Boston          NaN       \n",
       "dtype: float64"
      ]
     },
     "execution_count": 36,
     "metadata": {},
     "output_type": "execute_result"
    }
   ],
   "source": [
    "# square city values\n",
    "np.square(cities)"
   ]
  },
  {
   "cell_type": "code",
   "execution_count": 37,
   "id": "0876d1ce",
   "metadata": {
    "ExecuteTime": {
     "end_time": "2024-04-06T05:16:09.895274Z",
     "start_time": "2024-04-06T05:16:09.869384Z"
    }
   },
   "outputs": [
    {
     "name": "stdout",
     "output_type": "stream",
     "text": [
      "Austin     NaN    \n",
      "Chicago    NaN    \n",
      "New York    2600.0\n",
      "Portland   NaN    \n",
      "dtype: float64\n"
     ]
    }
   ],
   "source": [
    "print(cities[['Chicago', 'New York', 'Portland']] + cities[['Austin', 'New York']])"
   ]
  },
  {
   "cell_type": "markdown",
   "id": "73e6b827",
   "metadata": {},
   "source": [
    "# Filtering NaN Values"
   ]
  },
  {
   "cell_type": "code",
   "execution_count": 41,
   "id": "9febe4a4",
   "metadata": {
    "ExecuteTime": {
     "end_time": "2024-04-06T05:22:19.475060Z",
     "start_time": "2024-04-06T05:22:19.456591Z"
    }
   },
   "outputs": [
    {
     "data": {
      "text/plain": [
       "Chicago          False\n",
       "New York         False\n",
       "Portland         False\n",
       "San Francisco    False\n",
       "Austin           False\n",
       "Boston           True \n",
       "dtype: bool"
      ]
     },
     "execution_count": 41,
     "metadata": {},
     "output_type": "execute_result"
    }
   ],
   "source": [
    "cities.isnull()"
   ]
  },
  {
   "cell_type": "code",
   "execution_count": 42,
   "id": "917d01ca",
   "metadata": {
    "ExecuteTime": {
     "end_time": "2024-04-06T05:22:34.929652Z",
     "start_time": "2024-04-06T05:22:34.903034Z"
    }
   },
   "outputs": [
    {
     "data": {
      "text/plain": [
       "Chicago          True \n",
       "New York         True \n",
       "Portland         True \n",
       "San Francisco    True \n",
       "Austin           True \n",
       "Boston           False\n",
       "dtype: bool"
      ]
     },
     "execution_count": 42,
     "metadata": {},
     "output_type": "execute_result"
    }
   ],
   "source": [
    "cities.notnull()"
   ]
  },
  {
   "cell_type": "code",
   "execution_count": 43,
   "id": "832bdfb0",
   "metadata": {
    "ExecuteTime": {
     "end_time": "2024-04-06T05:23:05.595490Z",
     "start_time": "2024-04-06T05:23:05.564333Z"
    }
   },
   "outputs": [
    {
     "data": {
      "text/plain": [
       "Chicago          1400.0\n",
       "New York         1300.0\n",
       "Portland         900.0 \n",
       "San Francisco    1100.0\n",
       "Austin           450.0 \n",
       "dtype: float64"
      ]
     },
     "execution_count": 43,
     "metadata": {},
     "output_type": "execute_result"
    }
   ],
   "source": [
    "cities[cities.notnull()]"
   ]
  },
  {
   "cell_type": "code",
   "execution_count": null,
   "id": "f69f5af0",
   "metadata": {},
   "outputs": [],
   "source": []
  }
 ],
 "metadata": {
  "kernelspec": {
   "display_name": "python_ml",
   "language": "python",
   "name": "python_ml"
  },
  "language_info": {
   "codemirror_mode": {
    "name": "ipython",
    "version": 3
   },
   "file_extension": ".py",
   "mimetype": "text/x-python",
   "name": "python",
   "nbconvert_exporter": "python",
   "pygments_lexer": "ipython3",
   "version": "3.9.18"
  },
  "toc": {
   "base_numbering": 1,
   "nav_menu": {},
   "number_sections": true,
   "sideBar": true,
   "skip_h1_title": false,
   "title_cell": "Table of Contents",
   "title_sidebar": "Contents",
   "toc_cell": false,
   "toc_position": {},
   "toc_section_display": true,
   "toc_window_display": false
  },
  "varInspector": {
   "cols": {
    "lenName": 16,
    "lenType": 16,
    "lenVar": 40
   },
   "kernels_config": {
    "python": {
     "delete_cmd_postfix": "",
     "delete_cmd_prefix": "del ",
     "library": "var_list.py",
     "varRefreshCmd": "print(var_dic_list())"
    },
    "r": {
     "delete_cmd_postfix": ") ",
     "delete_cmd_prefix": "rm(",
     "library": "var_list.r",
     "varRefreshCmd": "cat(var_dic_list()) "
    }
   },
   "types_to_exclude": [
    "module",
    "function",
    "builtin_function_or_method",
    "instance",
    "_Feature"
   ],
   "window_display": false
  }
 },
 "nbformat": 4,
 "nbformat_minor": 5
}
