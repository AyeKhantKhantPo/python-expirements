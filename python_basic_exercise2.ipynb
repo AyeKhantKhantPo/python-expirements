{
 "cells": [
  {
   "cell_type": "markdown",
   "id": "d3d99a1b",
   "metadata": {
    "ExecuteTime": {
     "end_time": "2024-03-28T17:32:25.971671Z",
     "start_time": "2024-03-28T17:32:25.961757Z"
    }
   },
   "source": [
    "# Python Practice"
   ]
  },
  {
   "cell_type": "markdown",
   "id": "bef245ec",
   "metadata": {
    "ExecuteTime": {
     "end_time": "2024-03-28T15:30:31.417205Z",
     "start_time": "2024-03-28T15:30:31.402186Z"
    }
   },
   "source": [
    "**1.** Write a Python function that accepts a sequence of comma-separated numbers from the user and generates a list and a tuple of those numbers. Use input function.\n",
    "\n",
    "Sample data : 3, 5, 7, 23\n",
    "Output :\n",
    "List : ['3', ' 5', ' 7', ' 23']\n",
    "Tuple : ('3', ' 5', ' 7', ' 23')"
   ]
  },
  {
   "cell_type": "code",
   "execution_count": 2,
   "id": "e18be8b9",
   "metadata": {
    "ExecuteTime": {
     "end_time": "2024-03-28T16:49:47.661552Z",
     "start_time": "2024-03-28T16:49:29.515786Z"
    }
   },
   "outputs": [
    {
     "name": "stdout",
     "output_type": "stream",
     "text": [
      "Enter a sequence of comma-separated numbers : 3, 5, 7, 23\n",
      "List :  ['3', ' 5', ' 7', ' 23']\n",
      "Tuple :  ('3', ' 5', ' 7', ' 23')\n"
     ]
    }
   ],
   "source": [
    "def generate_list_n_tuple(nums):\n",
    "    nums_list = nums.split(\",\")\n",
    "    print(\"List : \", nums_list)\n",
    "    nums_tuple = tuple(nums_list)\n",
    "    print(\"Tuple : \", nums_tuple)\n",
    "\n",
    "nums = input(\"Enter a sequence of comma-separated numbers : \")\n",
    "generate_list_n_tuple(nums)"
   ]
  },
  {
   "cell_type": "markdown",
   "id": "712aaa66",
   "metadata": {},
   "source": [
    "**2.** Write a Python function to get all possible two-digit letter combinations from a 1-9 digit string. Use input function.\n",
    "\n",
    "string_maps = {\n",
    "\"1\": \"abc\",\n",
    "\"2\": \"def\",\n",
    "\"3\": \"ghi\",\n",
    "\"4\": \"jkl\",\n",
    "\"5\": \"mno\",\n",
    "\"6\": \"pqrs\",\n",
    "\"7\": \"tuv\",\n",
    "\"8\": \"wxy\",\n",
    "\"9\": \"z\"\n",
    "}\n",
    "Example:  29\n",
    "Output : ['dz', 'ez', 'fz']"
   ]
  },
  {
   "cell_type": "code",
   "execution_count": 14,
   "id": "529f5d56",
   "metadata": {
    "ExecuteTime": {
     "end_time": "2024-03-28T17:12:55.763612Z",
     "start_time": "2024-03-28T17:12:52.856242Z"
    }
   },
   "outputs": [
    {
     "name": "stdout",
     "output_type": "stream",
     "text": [
      "Enter a two-digit string : 29\n",
      "['dz', 'ez', 'fz']\n"
     ]
    }
   ],
   "source": [
    "def get_possible_digit_combination(digits):\n",
    "    if not digits:\n",
    "        return []\n",
    "    \n",
    "    string_maps = {\n",
    "        \"1\": \"abc\",\n",
    "        \"2\": \"def\",\n",
    "        \"3\": \"ghi\",\n",
    "        \"4\": \"jkl\",\n",
    "        \"5\": \"mno\",\n",
    "        \"6\": \"pqrs\",\n",
    "        \"7\": \"tuv\",\n",
    "        \"8\": \"wxy\",\n",
    "        \"9\": \"z\"\n",
    "    }\n",
    "    \n",
    "    result = [\"\"]\n",
    "\n",
    "    for i in digits:\n",
    "        temp = []\n",
    "\n",
    "        for j in result:            \n",
    "            for char in string_maps[i]:\n",
    "                temp.append(j + char)\n",
    "        result = temp\n",
    "                \n",
    "    return result\n",
    "\n",
    "two_digit = input(\"Enter a two-digit string : \")\n",
    "print(get_possible_digit_combination(two_digit))\n",
    "    "
   ]
  },
  {
   "cell_type": "markdown",
   "id": "f959b3fd",
   "metadata": {},
   "source": [
    "**3.** Write a Python function to find the highest and lowest number from a given string of space-separated integers. Use input function.\n",
    "\n",
    "Example string: 1 4 5 77 9 0\n",
    "Highest and lowest number of the said string: (77, 0)"
   ]
  },
  {
   "cell_type": "code",
   "execution_count": 18,
   "id": "2ffeb346",
   "metadata": {
    "ExecuteTime": {
     "end_time": "2024-03-28T17:21:18.607997Z",
     "start_time": "2024-03-28T17:21:17.136089Z"
    }
   },
   "outputs": [
    {
     "name": "stdout",
     "output_type": "stream",
     "text": [
      "Enter a string of space-separated integers : 1 4 5 77 9 0\n",
      "Highest and lowest number of the said string: (77, 0)\n"
     ]
    }
   ],
   "source": [
    "def highest_lowest_num(str1):\n",
    "    num_list = list(map(int, str1.split()))\n",
    "    return max(num_list), min(num_list)\n",
    "\n",
    "int_text = input(\"Enter a string of space-separated integers : \")\n",
    "\n",
    "print(\"Highest and lowest number of the said string:\", highest_lowest_num(int_text))"
   ]
  },
  {
   "cell_type": "markdown",
   "id": "d798b9f4",
   "metadata": {},
   "source": [
    "**4.** Write a Python function to compute the digit distance between two integers.\n",
    "The digit distance between two numbers is the absolute value of the difference of those numbers. Use input function.\n",
    "\n",
    "For example, the distance between 3 and -3 on the number line given by the |3 - (-3) | = |3 + 3 | = 6 units\n",
    "Digit distance of 123 and 256 is\n",
    "Since |1 - 2| + |2 - 5| + |3 - 6| = 1 + 3 + 3 = 7"
   ]
  },
  {
   "cell_type": "code",
   "execution_count": 20,
   "id": "005b21e6",
   "metadata": {
    "ExecuteTime": {
     "end_time": "2024-03-28T17:31:54.663505Z",
     "start_time": "2024-03-28T17:31:40.951208Z"
    }
   },
   "outputs": [
    {
     "name": "stdout",
     "output_type": "stream",
     "text": [
      "Enter 1st number: 123\n",
      "Enter 2nd number: 256\n",
      "The distance between 123 and 256 is 133\n"
     ]
    }
   ],
   "source": [
    "def compute_distance(d1, d2):\n",
    "    return(abs(d1 - d2))\n",
    "\n",
    "d1 = int(input(\"Enter 1st number: \"))\n",
    "d2 = int(input(\"Enter 2nd number: \"))\n",
    "\n",
    "print(f\"The distance between {d1} and {d2} is\", compute_distance(d1, d2))"
   ]
  },
  {
   "cell_type": "markdown",
   "id": "e219cdf4",
   "metadata": {},
   "source": [
    "**5.** Write a Python function to reverse all words of even lengths. Use input function.\n",
    "\n",
    "Sample Input:\n",
    "(\"The quick brown fox jumps over the lazy dog\")\n",
    "(\"Python Exercises\")\n",
    "\n",
    "Sample Output:\n",
    "The quick brown fox jumps revo the yzal dog\n",
    "nohtyP Exercises"
   ]
  },
  {
   "cell_type": "code",
   "execution_count": 35,
   "id": "b0f69839",
   "metadata": {
    "ExecuteTime": {
     "end_time": "2024-03-28T18:05:27.942351Z",
     "start_time": "2024-03-28T18:05:26.556016Z"
    }
   },
   "outputs": [
    {
     "name": "stdout",
     "output_type": "stream",
     "text": [
      "Enter a sentence : The quick brown fox jumps over the lazy dog\n",
      "Reverse even length words : The quick brown fox jumps revo the yzal dog \n"
     ]
    }
   ],
   "source": [
    "def reverse_even_length(text):\n",
    "    txt_list = text.split()\n",
    "    result = \"\"\n",
    "    for t in txt_list:\n",
    "        if len(t) % 2 == 0:\n",
    "            reverse = t[::-1]\n",
    "            result += reverse + \" \"\n",
    "        else:\n",
    "            result += t + \" \"\n",
    "\n",
    "    return result\n",
    "\n",
    "input_str = input(\"Enter a sentence : \")\n",
    "print(\"Reverse even length words :\", reverse_even_length(input_str))"
   ]
  },
  {
   "cell_type": "markdown",
   "id": "450fb02e",
   "metadata": {},
   "source": [
    "**6.** Write a Python function to sort three integers without using conditional statements and loops. Use input function.\n",
    "\n",
    "Example:\n",
    "Input first number: 2                                                                                         \n",
    "Input second number: 4                                                                                        \n",
    "Input third number: 5                                                                                         \n",
    "Numbers in sorted order:  2 4 5"
   ]
  },
  {
   "cell_type": "code",
   "execution_count": 34,
   "id": "0b97728d",
   "metadata": {
    "ExecuteTime": {
     "end_time": "2024-03-28T18:04:40.968129Z",
     "start_time": "2024-03-28T18:04:30.077449Z"
    },
    "scrolled": true
   },
   "outputs": [
    {
     "name": "stdout",
     "output_type": "stream",
     "text": [
      "Input first number : 2\n",
      "Input second number : 4\n",
      "Input third number : 5\n",
      "Numbers in sorted order:  2 4 5\n"
     ]
    }
   ],
   "source": [
    "def sort_numbers(i1, i2, i3):\n",
    "    l = [i1, i2, i3]\n",
    "    l.sort()\n",
    "    return \" \".join(map(str, l))\n",
    "\n",
    "int1 = int(input(\"Input first number : \"))\n",
    "int2 = int(input(\"Input second number : \"))\n",
    "int3 = int(input(\"Input third number : \"))\n",
    "\n",
    "print(\"Numbers in sorted order: \", sort_numbers(int1, int2, int3))"
   ]
  }
 ],
 "metadata": {
  "kernelspec": {
   "display_name": "python_ml",
   "language": "python",
   "name": "python_ml"
  },
  "language_info": {
   "codemirror_mode": {
    "name": "ipython",
    "version": 3
   },
   "file_extension": ".py",
   "mimetype": "text/x-python",
   "name": "python",
   "nbconvert_exporter": "python",
   "pygments_lexer": "ipython3",
   "version": "3.9.18"
  },
  "toc": {
   "base_numbering": 1,
   "nav_menu": {},
   "number_sections": true,
   "sideBar": true,
   "skip_h1_title": false,
   "title_cell": "Table of Contents",
   "title_sidebar": "Contents",
   "toc_cell": false,
   "toc_position": {},
   "toc_section_display": true,
   "toc_window_display": false
  },
  "varInspector": {
   "cols": {
    "lenName": 16,
    "lenType": 16,
    "lenVar": 40
   },
   "kernels_config": {
    "python": {
     "delete_cmd_postfix": "",
     "delete_cmd_prefix": "del ",
     "library": "var_list.py",
     "varRefreshCmd": "print(var_dic_list())"
    },
    "r": {
     "delete_cmd_postfix": ") ",
     "delete_cmd_prefix": "rm(",
     "library": "var_list.r",
     "varRefreshCmd": "cat(var_dic_list()) "
    }
   },
   "types_to_exclude": [
    "module",
    "function",
    "builtin_function_or_method",
    "instance",
    "_Feature"
   ],
   "window_display": false
  }
 },
 "nbformat": 4,
 "nbformat_minor": 5
}
