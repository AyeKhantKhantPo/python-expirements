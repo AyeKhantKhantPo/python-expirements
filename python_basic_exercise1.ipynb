{
 "cells": [
  {
   "cell_type": "markdown",
   "id": "8dd68e4c",
   "metadata": {},
   "source": [
    "# Week 1 Assignments"
   ]
  },
  {
   "cell_type": "markdown",
   "id": "be9874e7",
   "metadata": {},
   "source": [
    "1. The given tuple is a nested tuple. write a Python program to print the value 20.\n",
    "\n",
    "Given \n",
    "tuple1 = (\"Orange\", [10, 20, 30], (5, 15, 25))\n",
    "\n",
    "Expected Output :\n",
    "20"
   ]
  },
  {
   "cell_type": "code",
   "execution_count": 2,
   "id": "8f4b3090",
   "metadata": {
    "ExecuteTime": {
     "end_time": "2024-03-13T16:31:33.712327Z",
     "start_time": "2024-03-13T16:31:33.692332Z"
    }
   },
   "outputs": [
    {
     "name": "stdout",
     "output_type": "stream",
     "text": [
      "20\n"
     ]
    }
   ],
   "source": [
    "tuple1 = (\"Orange\", [10, 20, 30], (5, 15, 25))\n",
    "print(tuple1[1][1])"
   ]
  },
  {
   "cell_type": "markdown",
   "id": "669a8134",
   "metadata": {},
   "source": [
    "2. Counts the number of occurrences of item 50 from a tuple\n",
    "Given \n",
    "\n",
    "tuple1 = (50, 10, 60, 70, 50)\n",
    "\n",
    "Expected Outcome\n",
    "2"
   ]
  },
  {
   "cell_type": "code",
   "execution_count": 5,
   "id": "ab211ea6",
   "metadata": {
    "ExecuteTime": {
     "end_time": "2024-03-13T16:43:27.145437Z",
     "start_time": "2024-03-13T16:43:27.132435Z"
    }
   },
   "outputs": [
    {
     "name": "stdout",
     "output_type": "stream",
     "text": [
      "2\n"
     ]
    }
   ],
   "source": [
    "tuple1 = (50, 10, 60, 70, 50)\n",
    "print(tuple1.count(50))"
   ]
  },
  {
   "cell_type": "markdown",
   "id": "0095f6b7",
   "metadata": {},
   "source": [
    "3. Below are the two lists. Write a Python program to convert them into a dictionary in a way that item from list1 is the key and item from list2 is the value\n",
    "\n",
    "Given\n",
    "\n",
    "keys = ['Ten', 'Twenty', 'Thirty']\n",
    "values = [10, 20, 30]\n",
    "\n",
    "Expected Output:\n",
    "\n",
    "{'Ten': 10, 'Twenty': 20, 'Thirty': 30}"
   ]
  },
  {
   "cell_type": "code",
   "execution_count": 14,
   "id": "9b5ba1c1",
   "metadata": {
    "ExecuteTime": {
     "end_time": "2024-03-13T16:50:28.646176Z",
     "start_time": "2024-03-13T16:50:28.621128Z"
    }
   },
   "outputs": [
    {
     "data": {
      "text/plain": [
       "{'Ten': 10, 'Twenty': 20, 'Thirty': 30}"
      ]
     },
     "execution_count": 14,
     "metadata": {},
     "output_type": "execute_result"
    }
   ],
   "source": [
    "keys = ['Ten', 'Twenty', 'Thirty']\n",
    "values = [10, 20, 30]\n",
    "result = dict(zip(keys,  values))\n",
    "result"
   ]
  },
  {
   "cell_type": "markdown",
   "id": "9c39f046",
   "metadata": {},
   "source": [
    "4. Merge two Python dictionaries into one\n",
    "Given \n",
    "\n",
    "dict1 = {'Ten': 10, 'Twenty': 20, 'Thirty': 30}\n",
    "dict2 = {'Thirty': 30, 'Fourty': 40, 'Fifty': 50}\n",
    "\n",
    "Expected Output:\n",
    "{'Ten': 10, 'Twenty': 20, 'Thirty': 30, 'Fourty': 40, 'Fifty': 50}"
   ]
  },
  {
   "cell_type": "code",
   "execution_count": 16,
   "id": "011b2b17",
   "metadata": {
    "ExecuteTime": {
     "end_time": "2024-03-13T16:50:36.640605Z",
     "start_time": "2024-03-13T16:50:36.630413Z"
    }
   },
   "outputs": [
    {
     "data": {
      "text/plain": [
       "{'Ten': 10, 'Twenty': 20, 'Thirty': 30, 'Fourty': 40, 'Fifty': 50}"
      ]
     },
     "execution_count": 16,
     "metadata": {},
     "output_type": "execute_result"
    }
   ],
   "source": [
    "dict1 = {'Ten': 10, 'Twenty': 20, 'Thirty': 30}\n",
    "dict2 = {'Thirty': 30, 'Fourty': 40, 'Fifty': 50}\n",
    "dict3 = {**dict1, **dict2}\n",
    "dict3"
   ]
  },
  {
   "cell_type": "markdown",
   "id": "785c8344",
   "metadata": {},
   "source": [
    "5. Given \n",
    "\n",
    "set1 = {10, 20, 30, 40, 50}\n",
    "set2 = {30, 40, 50, 60, 70}\n",
    "\n",
    "Expected Output\n",
    "\n",
    "{40, 50, 30}"
   ]
  },
  {
   "cell_type": "code",
   "execution_count": 21,
   "id": "b07f6ef7",
   "metadata": {
    "ExecuteTime": {
     "end_time": "2024-03-13T16:54:36.599348Z",
     "start_time": "2024-03-13T16:54:36.590839Z"
    }
   },
   "outputs": [
    {
     "data": {
      "text/plain": [
       "{30, 40, 50}"
      ]
     },
     "execution_count": 21,
     "metadata": {},
     "output_type": "execute_result"
    }
   ],
   "source": [
    "set1 = {10, 20, 30, 40, 50}\n",
    "set2 = {30, 40, 50, 60, 70}\n",
    "set3 = set1.intersection(set2)\n",
    "set3"
   ]
  },
  {
   "cell_type": "markdown",
   "id": "8ee640ad",
   "metadata": {
    "ExecuteTime": {
     "end_time": "2024-03-13T16:38:44.512736Z",
     "start_time": "2024-03-13T16:38:44.491451Z"
    }
   },
   "source": [
    "6. Given two lists a, b. Check if two lists have at least one element common in them.\n",
    "\n",
    "Examples:\n",
    "\n",
    "Input : a = [1, 2, 3, 4, 5]\n",
    "        b = [5, 6, 7, 8, 9]\n",
    "Output : True\n",
    "\n",
    "Input : a=[1, 2, 3, 4, 5]\n",
    "        b=[6, 7, 8, 9]\n",
    "Output : False"
   ]
  },
  {
   "cell_type": "code",
   "execution_count": 25,
   "id": "827cc8d9",
   "metadata": {
    "ExecuteTime": {
     "end_time": "2024-03-13T17:00:14.668235Z",
     "start_time": "2024-03-13T17:00:14.652530Z"
    }
   },
   "outputs": [
    {
     "name": "stdout",
     "output_type": "stream",
     "text": [
      "True\n",
      "False\n"
     ]
    }
   ],
   "source": [
    "def common_data(list1, list2):\n",
    "    result = False\n",
    " \n",
    "    # traverse in the 1st list\n",
    "    for x in list1:\n",
    " \n",
    "        # traverse in the 2nd list\n",
    "        for y in list2:\n",
    "   \n",
    "            # if one common\n",
    "            if x == y:\n",
    "                result = True\n",
    "                return result \n",
    "                 \n",
    "    return result\n",
    "\n",
    "a = [1, 2, 3, 4, 5]\n",
    "b = [5, 6, 7, 8, 9]\n",
    "print(common_data(a, b))\n",
    "\n",
    "a=[1, 2, 3, 4, 5]\n",
    "b=[6, 7, 8, 9]\n",
    "print(common_data(a, b))\n"
   ]
  },
  {
   "cell_type": "markdown",
   "id": "2e6324aa",
   "metadata": {},
   "source": [
    "7. Create a string made of the middle three characters\n",
    "Given :\n",
    "\n",
    " str1 = \"JhonDipPeta\"\n",
    " str2 = \"JaSonAy\"\n",
    "Expected Output :\n",
    "\n",
    "    Dip (for String 1 )\n",
    "    Son (for String 2 )"
   ]
  },
  {
   "cell_type": "code",
   "execution_count": 35,
   "id": "018d7f0f",
   "metadata": {
    "ExecuteTime": {
     "end_time": "2024-03-13T17:12:12.781409Z",
     "start_time": "2024-03-13T17:12:12.774056Z"
    }
   },
   "outputs": [
    {
     "name": "stdout",
     "output_type": "stream",
     "text": [
      "Dip\n",
      "Son\n"
     ]
    }
   ],
   "source": [
    "def get_middle_3(input):\n",
    "    mid = int(len(input) / 2)\n",
    "\n",
    "    res = input[mid - 1:mid + 2]\n",
    "    return res\n",
    "    \n",
    "str1 = \"JhonDipPeta\"\n",
    "print(get_middle_3(str1))\n",
    "\n",
    "str2 = \"JaSonAy\"\n",
    "print(get_middle_3(str2))\n"
   ]
  },
  {
   "cell_type": "markdown",
   "id": "a0dcbaf8",
   "metadata": {},
   "source": [
    "8. Given two strings, s1 and s2. Write a program to create a new string s3 by appending s2 in the middle of s1.\n",
    "\n",
    "Given :\n",
    "\n",
    "s1 = \"Ault\"\n",
    "s2 = \"Kelly\"\n",
    "Expected Output :\n",
    "\n",
    "AuKellylt"
   ]
  },
  {
   "cell_type": "code",
   "execution_count": 41,
   "id": "fd90de8d",
   "metadata": {
    "ExecuteTime": {
     "end_time": "2024-03-13T17:22:22.725278Z",
     "start_time": "2024-03-13T17:22:22.695720Z"
    }
   },
   "outputs": [
    {
     "data": {
      "text/plain": [
       "'AuKellylt'"
      ]
     },
     "execution_count": 41,
     "metadata": {},
     "output_type": "execute_result"
    }
   ],
   "source": [
    "s1 = \"Ault\"\n",
    "s2 = \"Kelly\"\n",
    "mid = (len(s1)//2)\n",
    "s3 = s1[:mid:]\n",
    "s3 = s3 + s2\n",
    "s3 = s3 + s1[mid:]\n",
    "s3"
   ]
  },
  {
   "cell_type": "markdown",
   "id": "a51484b6",
   "metadata": {},
   "source": [
    "9. Write a program to find all occurrences of “USA” in a given string ignoring the case.\n",
    "\n",
    "Given\n",
    "\n",
    "str1 = \"Welcome to USA. usa awesome, isn't it?\"\n",
    "\n",
    "Expected Output\n",
    "\n",
    "The USA count is: 2"
   ]
  },
  {
   "cell_type": "code",
   "execution_count": 43,
   "id": "0e6b5b91",
   "metadata": {
    "ExecuteTime": {
     "end_time": "2024-03-13T17:24:44.056634Z",
     "start_time": "2024-03-13T17:24:44.051321Z"
    }
   },
   "outputs": [
    {
     "name": "stdout",
     "output_type": "stream",
     "text": [
      "2\n"
     ]
    }
   ],
   "source": [
    "str1 = \"Welcome to USA. usa awesome, isn't it?\"\n",
    "print(str1.lower().count('usa'))"
   ]
  },
  {
   "cell_type": "markdown",
   "id": "582efb5c",
   "metadata": {},
   "source": [
    "10. Write a program to create a new string made of an input string’s first, middle, and last character.\n",
    "\n",
    "Given :\n",
    "str1 = \"James\"\n",
    "\n",
    "Output :\n",
    "Jms"
   ]
  },
  {
   "cell_type": "code",
   "execution_count": 47,
   "id": "9a10db0c",
   "metadata": {
    "ExecuteTime": {
     "end_time": "2024-03-13T17:28:28.550226Z",
     "start_time": "2024-03-13T17:28:28.538519Z"
    }
   },
   "outputs": [
    {
     "data": {
      "text/plain": [
       "'Jms'"
      ]
     },
     "execution_count": 47,
     "metadata": {},
     "output_type": "execute_result"
    }
   ],
   "source": [
    "str1 = \"James\"\n",
    "mid = len(s1) // 2\n",
    "res = str1[0]+str1[mid]+str1[-1]\n",
    "res"
   ]
  }
 ],
 "metadata": {
  "kernelspec": {
   "display_name": "python_ml",
   "language": "python",
   "name": "python_ml"
  },
  "language_info": {
   "codemirror_mode": {
    "name": "ipython",
    "version": 3
   },
   "file_extension": ".py",
   "mimetype": "text/x-python",
   "name": "python",
   "nbconvert_exporter": "python",
   "pygments_lexer": "ipython3",
   "version": "3.9.18"
  },
  "toc": {
   "base_numbering": 1,
   "nav_menu": {},
   "number_sections": true,
   "sideBar": true,
   "skip_h1_title": false,
   "title_cell": "Table of Contents",
   "title_sidebar": "Contents",
   "toc_cell": false,
   "toc_position": {},
   "toc_section_display": true,
   "toc_window_display": false
  },
  "varInspector": {
   "cols": {
    "lenName": 16,
    "lenType": 16,
    "lenVar": 40
   },
   "kernels_config": {
    "python": {
     "delete_cmd_postfix": "",
     "delete_cmd_prefix": "del ",
     "library": "var_list.py",
     "varRefreshCmd": "print(var_dic_list())"
    },
    "r": {
     "delete_cmd_postfix": ") ",
     "delete_cmd_prefix": "rm(",
     "library": "var_list.r",
     "varRefreshCmd": "cat(var_dic_list()) "
    }
   },
   "types_to_exclude": [
    "module",
    "function",
    "builtin_function_or_method",
    "instance",
    "_Feature"
   ],
   "window_display": false
  }
 },
 "nbformat": 4,
 "nbformat_minor": 5
}
