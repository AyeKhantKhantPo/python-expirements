{
 "cells": [
  {
   "cell_type": "markdown",
   "id": "f7472e1c",
   "metadata": {},
   "source": [
    "# Problem Solving Pracice"
   ]
  },
  {
   "cell_type": "markdown",
   "id": "86e2556c",
   "metadata": {},
   "source": [
    "### Part 1\n",
    "Given inputs text and query, put in parentheses the part of the text that contains the query.\n",
    "\n",
    "**Case 1:**\n",
    "highlight(\"banana\", \"ana\") == \"b(ana)na\"\n",
    "\n",
    "**Case 2:**\n",
    "highlight(\"hello world\", \"ana\") == \"hello world\"\n",
    "\n",
    "**Case 3:**\n",
    "highlight(\"hello world\", \"hell\") == \"(hell)o world\"\n"
   ]
  },
  {
   "cell_type": "code",
   "execution_count": 5,
   "id": "a210daa8",
   "metadata": {
    "ExecuteTime": {
     "end_time": "2024-03-30T16:55:50.543715Z",
     "start_time": "2024-03-30T16:55:50.517924Z"
    }
   },
   "outputs": [
    {
     "name": "stdout",
     "output_type": "stream",
     "text": [
      "b(ana)na\n",
      "hello world\n",
      "(hell)o world\n"
     ]
    }
   ],
   "source": [
    "def highlight(text, query):\n",
    "    index = text.find(query)\n",
    "    if index != -1:\n",
    "        return text[:index] + '(' + query + ')' + text[index+len(query):]\n",
    "    return text\n",
    "\n",
    "print(highlight(\"banana\", \"ana\"))\n",
    "print(highlight(\"hello world\", \"ana\"))\n",
    "print(highlight(\"hello world\", \"hell\"))"
   ]
  },
  {
   "cell_type": "markdown",
   "id": "0897d02f",
   "metadata": {},
   "source": [
    "### Part 2\n",
    "Instead of returning the highlighted string, return a list of starting indices where the query appears within the text.\n",
    "\n",
    "👉 Note that overlapping terms are counted, as shown below:\n",
    "\n",
    "**Case 1:**\n",
    "find_indexes(\"banana\", \"ana\") == [1, 3]\n",
    "\n",
    "**Query appears at indices:**\n",
    "1:           ana\n",
    "3:             ana\n",
    "\n",
    "**Case 2:**\n",
    "find_indexes(\"hello world\", \"ana\") == []\n"
   ]
  },
  {
   "cell_type": "code",
   "execution_count": 1,
   "id": "c7068491",
   "metadata": {
    "ExecuteTime": {
     "end_time": "2024-03-30T18:37:18.678634Z",
     "start_time": "2024-03-30T18:37:18.660643Z"
    }
   },
   "outputs": [
    {
     "name": "stdout",
     "output_type": "stream",
     "text": [
      "[1, 3]\n",
      "[]\n"
     ]
    }
   ],
   "source": [
    "def find_indexes(text, query):\n",
    "    indexes = []\n",
    "    index = text.find(query)\n",
    "    while index != -1:\n",
    "        indexes.append(index)\n",
    "        index = text.find(query, index + 1)\n",
    "    return indexes\n",
    "\n",
    "print(find_indexes(\"banana\", \"ana\"))\n",
    "print(find_indexes(\"hello world\", \"ana\"))"
   ]
  },
  {
   "cell_type": "markdown",
   "id": "c01d416b",
   "metadata": {
    "ExecuteTime": {
     "end_time": "2024-03-30T16:41:08.909061Z",
     "start_time": "2024-03-30T16:41:08.898062Z"
    }
   },
   "source": [
    "### Part 3\n",
    "Given inputs text and query, put in parentheses the part of the text that contains the query, but containing overlaps. This function should behave like a 'real' highlighter where it highlights anything that matches the query, so that when the highlighted parts overlap we should see the entire highlighted section as one piece and not individual matches.\n",
    "\n",
    "**Case 1:**\n",
    "highlight_v2(\"bana\", \"ana\") == \"b(ana)\"\n",
    "\n",
    "**Case 2:**\n",
    "highlight_v2(\"banana\", \"ana\") == \"b(anana)\"\n",
    "\n",
    "**Case 3:**\n",
    "highlight_v2(\"banana anana anna\", \"ana\") == \"b(anana) (anana) anna\"\n"
   ]
  },
  {
   "cell_type": "code",
   "execution_count": 16,
   "id": "a071a897",
   "metadata": {
    "ExecuteTime": {
     "end_time": "2024-03-30T18:50:26.144938Z",
     "start_time": "2024-03-30T18:50:26.122946Z"
    }
   },
   "outputs": [
    {
     "name": "stdout",
     "output_type": "stream",
     "text": [
      "b(ana)\n",
      "b(anana)\n",
      "b(anana) (anana) anna\n"
     ]
    }
   ],
   "source": [
    "def highlight_v2(text, query):\n",
    "    highlighted_text = ''\n",
    "    words = text.split()\n",
    "    \n",
    "    for word in words:\n",
    "        highlighted_word = ''\n",
    "        indexes = find_indexes(word, query)\n",
    "        \n",
    "        if not indexes:\n",
    "            highlighted_text += word + ' '\n",
    "            continue\n",
    "        \n",
    "        prev_index = 0\n",
    "        for index in indexes:\n",
    "            if index >= prev_index:\n",
    "                highlighted_word += word[prev_index:index] + '(' + query\n",
    "                \n",
    "                if len(word) == index + len(query):\n",
    "                    highlighted_word += ')'\n",
    "                \n",
    "                prev_index = index + len(query)\n",
    "            else:\n",
    "                highlighted_word += word[prev_index:index + len(query)]\n",
    "                \n",
    "                if len(word) == index + len(query):\n",
    "                    highlighted_word += ')'\n",
    "                \n",
    "                prev_index = index + len(query)\n",
    "        \n",
    "        highlighted_text += highlighted_word + ' '\n",
    "    \n",
    "    return highlighted_text.strip()\n",
    "\n",
    "# Test cases\n",
    "print(highlight_v2(\"bana\", \"ana\"))  # Output: \"b(ana)\"\n",
    "print(highlight_v2(\"banana\", \"ana\"))  # Output: \"b(anana)\"\n",
    "print(highlight_v2(\"banana anana anna\", \"ana\"))  # Output: \"b(anana) (anana) anna\"\n"
   ]
  },
  {
   "cell_type": "code",
   "execution_count": null,
   "id": "0fe8a0b6",
   "metadata": {},
   "outputs": [],
   "source": []
  }
 ],
 "metadata": {
  "kernelspec": {
   "display_name": "python_ml",
   "language": "python",
   "name": "python_ml"
  },
  "language_info": {
   "codemirror_mode": {
    "name": "ipython",
    "version": 3
   },
   "file_extension": ".py",
   "mimetype": "text/x-python",
   "name": "python",
   "nbconvert_exporter": "python",
   "pygments_lexer": "ipython3",
   "version": "3.9.18"
  },
  "toc": {
   "base_numbering": 1,
   "nav_menu": {},
   "number_sections": true,
   "sideBar": true,
   "skip_h1_title": false,
   "title_cell": "Table of Contents",
   "title_sidebar": "Contents",
   "toc_cell": false,
   "toc_position": {},
   "toc_section_display": true,
   "toc_window_display": false
  },
  "varInspector": {
   "cols": {
    "lenName": 16,
    "lenType": 16,
    "lenVar": 40
   },
   "kernels_config": {
    "python": {
     "delete_cmd_postfix": "",
     "delete_cmd_prefix": "del ",
     "library": "var_list.py",
     "varRefreshCmd": "print(var_dic_list())"
    },
    "r": {
     "delete_cmd_postfix": ") ",
     "delete_cmd_prefix": "rm(",
     "library": "var_list.r",
     "varRefreshCmd": "cat(var_dic_list()) "
    }
   },
   "types_to_exclude": [
    "module",
    "function",
    "builtin_function_or_method",
    "instance",
    "_Feature"
   ],
   "window_display": false
  }
 },
 "nbformat": 4,
 "nbformat_minor": 5
}
